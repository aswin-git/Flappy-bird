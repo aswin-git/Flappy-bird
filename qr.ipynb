{
 "cells": [
  {
   "cell_type": "code",
   "execution_count": 16,
   "metadata": {},
   "outputs": [],
   "source": [
    "import qrcode\n",
    "\n",
    "def s_qr(text):\n",
    "    qr = qrcode.QRCode()\n",
    "    qr.add_data(text)\n",
    "    img = qr.make_image()\n",
    "    img.show()\n",
    "s_qr(\"Cover all advanced topics of databases. 1. 2. Learn about different types of indexes. 3. Understand the advantages of stored procedures. 4. Study ACID properties of transactions. 5. Learn how to avoid deadlock in a database. 6. Create a stored procedure to: Store student information. Retrieve the second-highest marks among students using a stored procedure. 1. Difference Between WHERE and HAVING Clauses - WHERE filters rows before aggregation, while HAVING filters after aggregation with GROUP BY. Provide examples for clarity. 2. Types of SQL Commands - Outline main SQL command types: - DDL (CREATE, ALTER) - DML (INSERT, UPDATE) - DCL (GRANT, REVOKE) - TCL (COMMIT, ROLLBACK) Briefly describe each type's primary use. 3. What is an Index? How Does It Improve Performance? Indexes speed up data retrieval by enabling efficient lookups. Discuss types (e.g., clustered, non-clustered) and the balance between faster reads and potential storage and update costs. 4. Print the second highest mark record from a database table Implement join Types of join Relational data base meaning Application of having Types of index Advantages of index\")\n"
   ]
  },
  {
   "cell_type": "code",
   "execution_count": null,
   "metadata": {},
   "outputs": [],
   "source": []
  }
 ],
 "metadata": {
  "kernelspec": {
   "display_name": "Python 3",
   "language": "python",
   "name": "python3"
  },
  "language_info": {
   "codemirror_mode": {
    "name": "ipython",
    "version": 3
   },
   "file_extension": ".py",
   "mimetype": "text/x-python",
   "name": "python",
   "nbconvert_exporter": "python",
   "pygments_lexer": "ipython3",
   "version": "3.13.0"
  }
 },
 "nbformat": 4,
 "nbformat_minor": 2
}
